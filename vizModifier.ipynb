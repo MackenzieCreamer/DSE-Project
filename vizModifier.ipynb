{
 "cells": [
  {
   "cell_type": "code",
   "execution_count": 1,
   "id": "f019b864",
   "metadata": {},
   "outputs": [],
   "source": [
    "import pandas as pd\n",
    "import csv\n",
    "import os"
   ]
  },
  {
   "cell_type": "code",
   "execution_count": 2,
   "id": "1df93013",
   "metadata": {},
   "outputs": [],
   "source": [
    "df = pd.read_csv('vizOutput.csv')"
   ]
  },
  {
   "cell_type": "code",
   "execution_count": 3,
   "id": "2f6233ee",
   "metadata": {},
   "outputs": [],
   "source": [
    "uniqueCR = sorted(df['CR'].unique())\n",
    "uniqueDamImm = sorted(df['dImm'].unique())\n",
    "uniqueConImm = sorted(df['cImm'].unique())\n",
    "uniqueDamVul = sorted(df['dVuln'].unique())\n",
    "uniqueDamRes = sorted(df['dResists'].unique())\n",
    "uniqueLegAct = sorted(df['Legendary Actions'].unique())\n",
    "uniqueFeatQu = sorted(df['Feature Quantity'].unique())\n",
    "uniqueLegRes = sorted(df['Legendary Resistances'].unique())"
   ]
  },
  {
   "cell_type": "code",
   "execution_count": 4,
   "id": "23d66e44",
   "metadata": {},
   "outputs": [],
   "source": [
    "filesDict = {'dImm' : uniqueDamImm, 'cImm' : uniqueConImm, \\\n",
    "            'dVuln': uniqueDamVul, 'dResists' : uniqueDamRes, \\\n",
    "            'Feature Quantity' : uniqueFeatQu, 'Legendary Actions':uniqueLegAct,\\\n",
    "            'Legendary Resistances' : uniqueLegRes}"
   ]
  },
  {
   "cell_type": "code",
   "execution_count": 5,
   "id": "ce21909f",
   "metadata": {},
   "outputs": [
    {
     "name": "stdout",
     "output_type": "stream",
     "text": [
      "{'dImm': [False, True], 'cImm': [False, True], 'dVuln': [False, True], 'dResists': [False, True], 'Feature Quantity': [0, 1, 2, 3, 4, 5, 6, 7], 'Legendary Actions': [0, 2, 3], 'Legendary Resistances': [0, 1, 2, 3, 4, 5]}\n"
     ]
    }
   ],
   "source": [
    "print(filesDict)"
   ]
  },
  {
   "cell_type": "code",
   "execution_count": 6,
   "id": "5dc152a0",
   "metadata": {},
   "outputs": [],
   "source": [
    "for file in filesDict:\n",
    "    outputArray = [['Values']]\n",
    "    for value in filesDict[file]:\n",
    "        outputArray.append([value])\n",
    "    for CR in uniqueCR:\n",
    "        outputArray[0].append(CR)\n",
    "        for value in filesDict[file]:\n",
    "            rowToAddTo = filesDict[file].index(value)+1\n",
    "            outputRow = [value]\n",
    "            CR_Frame = (df['CR'] == CR)\n",
    "            value_frame = (df[file]==value)\n",
    "            placeHolderDF = df[CR_Frame & value_frame]\n",
    "            rows = len(placeHolderDF.index)\n",
    "            outputArray[rowToAddTo].append(rows)\n",
    "    with open(file + \".csv\",\"w+\",newline=\"\") as my_csv:\n",
    "        csvWriter = csv.writer(my_csv,delimiter=',')\n",
    "        csvWriter.writerows(outputArray)\n",
    "        "
   ]
  },
  {
   "cell_type": "code",
   "execution_count": 7,
   "id": "1db9c56d",
   "metadata": {},
   "outputs": [
    {
     "name": "stdout",
     "output_type": "stream",
     "text": [
      "Values -1.0 0.0 0.125 0.25 0.5 1.0 2.0 3.0 4.0 5.0 6.0 7.0 8.0 9.0 10.0 11.0 12.0 13.0 14.0 15.0 16.0 17.0 18.0 19.0 20.0 21.0 22.0 23.0 24.0 25.0 26.0 27.0 28.0 30.0 \n",
      "0 49 86 75 132 120 139 211 156 110 143 68 61 62 58 51 35 23 21 10 12 11 9 4 3 3 1 0 2 0 0 0 0 0 0 \n",
      "1 0 0 0 0 0 0 0 0 0 0 1 1 3 0 0 0 0 0 0 0 1 0 0 0 0 0 0 0 0 0 0 0 0 0 \n",
      "2 0 0 0 0 0 0 0 0 0 1 0 1 0 0 2 1 0 2 2 0 0 0 0 0 0 0 0 0 0 0 0 0 0 0 \n",
      "3 0 0 0 0 0 0 0 0 0 0 0 0 1 0 0 2 6 5 7 8 9 8 9 5 4 12 10 11 9 3 5 0 2 1 \n",
      "4 0 0 0 0 0 0 0 0 0 0 0 0 0 0 0 0 0 0 0 0 0 0 0 0 0 1 1 0 0 0 5 5 5 0 \n",
      "5 0 0 0 0 0 0 0 0 0 0 0 0 0 0 0 0 0 0 0 0 0 0 0 0 0 0 0 0 0 0 0 0 0 2 \n"
     ]
    }
   ],
   "source": [
    "for row in outputArray:\n",
    "    for value in row:\n",
    "        print(value,end=\" \")\n",
    "    print()"
   ]
  },
  {
   "cell_type": "code",
   "execution_count": null,
   "id": "7d75d36d",
   "metadata": {},
   "outputs": [],
   "source": []
  }
 ],
 "metadata": {
  "kernelspec": {
   "display_name": "Python 3 (ipykernel)",
   "language": "python",
   "name": "python3"
  },
  "language_info": {
   "codemirror_mode": {
    "name": "ipython",
    "version": 3
   },
   "file_extension": ".py",
   "mimetype": "text/x-python",
   "name": "python",
   "nbconvert_exporter": "python",
   "pygments_lexer": "ipython3",
   "version": "3.10.9"
  }
 },
 "nbformat": 4,
 "nbformat_minor": 5
}
