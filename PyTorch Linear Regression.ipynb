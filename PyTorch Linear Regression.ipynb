{
 "cells": [
  {
   "cell_type": "code",
   "execution_count": 359,
   "id": "25709d4f",
   "metadata": {},
   "outputs": [],
   "source": [
    "import copy\n",
    "import torch\n",
    "import torch.nn as nn\n",
    "import torch.nn.functional as F\n",
    "from torch.utils.data import Dataset, DataLoader\n",
    "import matplotlib.pyplot as plt\n",
    "import numpy as np\n",
    "import pandas as pd\n",
    "from sklearn import model_selection"
   ]
  },
  {
   "cell_type": "code",
   "execution_count": 423,
   "id": "b5ce0b2c",
   "metadata": {},
   "outputs": [],
   "source": [
    "class nnDataset(Dataset):\n",
    "    def __init__(self, x, y):\n",
    "        self.x = torch.tensor(x, dtype=torch.float32)\n",
    "        self.y = torch.tensor(y, dtype=torch.float32)\n",
    "        self.length = self.x.shape[0]\n",
    "    def __getitem__(self,idx):\n",
    "        return self.x[idx], self.y[idx]\n",
    "    def __len__(self):\n",
    "        return self.length\n",
    "class Net(nn.Module):\n",
    "    def __init__(self, nInputFeatures):\n",
    "        super(Net, self).__init__()\n",
    "        self.linear_relu_stack = nn.Sequential(\n",
    "            nn.Linear(nInputFeatures,32),\n",
    "            nn.ReLU(),\n",
    "            nn.Linear(32,32),\n",
    "            nn.ReLU(),\n",
    "            nn.Linear(32,1),\n",
    "            \n",
    "        )\n",
    "    def forward(self, x):\n",
    "        output = self.linear_relu_stack(x)\n",
    "        return output"
   ]
  },
  {
   "cell_type": "code",
   "execution_count": 424,
   "id": "d633bd86",
   "metadata": {},
   "outputs": [
    {
     "name": "stdout",
     "output_type": "stream",
     "text": [
      "26.0 : Index Removed, less than two of this CR present\n"
     ]
    }
   ],
   "source": [
    "data = pd.read_csv(\"Relevantfeatures,1Target.csv\")\n",
    "for CR in data['CR'].unique():\n",
    "    if(data['CR'][data['CR']==CR].count() < 2):\n",
    "        print(CR, \": Index Removed, less than two of this CR present\")\n",
    "        data = data[data['CR']!=CR]\n",
    "    if(CR == 0):\n",
    "        data = data[data['CR']!=CR]\n",
    "x = data.drop(columns=\"CR\")\n",
    "y = data['CR']\n",
    "xTrain, xTest, yTrain, yTest = model_selection.train_test_split(x, y,test_size=0.5,stratify=y)"
   ]
  },
  {
   "cell_type": "code",
   "execution_count": 425,
   "id": "88948bf4",
   "metadata": {},
   "outputs": [],
   "source": [
    "for i,column in enumerate(xTrain):\n",
    "    colMin = xTrain[column].max()\n",
    "    colMax = xTrain[column].min()\n",
    "    if(colMin == colMax):\n",
    "        xTrain[column] = xTrain[column]  * 0\n",
    "        xTest[column] = xTest[column] * 0\n",
    "    else:\n",
    "        xTrain[column] = (xTrain[column] - colMin) / (colMax - colMin)\n",
    "        xTest[column] = (xTest[column] - colMin) / (colMax - colMin)\n",
    "nnTrainingSet = nnDataset(xTrain.values, yTrain.values)\n",
    "nnTestingSet = nnDataset(xTest.values, yTest.values)\n",
    "nnTrainLoader = DataLoader(nnTrainingSet, batch_size=16, shuffle=True)\n",
    "nnTestLoader = DataLoader(nnTestingSet, batch_size=16, shuffle=False)"
   ]
  },
  {
   "cell_type": "code",
   "execution_count": 429,
   "id": "3fe3b3e4",
   "metadata": {
    "scrolled": false
   },
   "outputs": [
    {
     "name": "stdout",
     "output_type": "stream",
     "text": [
      "On epoch 0\n",
      "Better MSE Loss 112.59752655029297 achieved on epoch 0\n",
      "Better MSE Loss 1.728986382484436 achieved on epoch 1\n",
      "Better MSE Loss 1.3151264190673828 achieved on epoch 2\n",
      "Better MSE Loss 0.7687333226203918 achieved on epoch 17\n",
      "Better MSE Loss 0.30611374974250793 achieved on epoch 21\n",
      "Better MSE Loss 0.2522464096546173 achieved on epoch 26\n",
      "Better MSE Loss 0.18222138285636902 achieved on epoch 52\n",
      "On epoch 100\n",
      "Better MSE Loss 0.14396485686302185 achieved on epoch 119\n",
      "Better MSE Loss 0.10524529963731766 achieved on epoch 123\n",
      "Better MSE Loss 0.1020134910941124 achieved on epoch 171\n",
      "Better MSE Loss 0.049106378108263016 achieved on epoch 181\n",
      "On epoch 200\n",
      "On epoch 300\n",
      "On epoch 400\n",
      "On epoch 500\n",
      "On epoch 600\n",
      "Better MSE Loss 0.039248980581760406 achieved on epoch 693\n",
      "On epoch 700\n",
      "On epoch 800\n",
      "On epoch 900\n",
      "On epoch 1000\n",
      "On epoch 1100\n",
      "On epoch 1200\n",
      "On epoch 1300\n",
      "On epoch 1400\n",
      "On epoch 1500\n",
      "On epoch 1600\n",
      "On epoch 1700\n",
      "On epoch 1800\n",
      "On epoch 1900\n",
      "On epoch 2000\n",
      "On epoch 2100\n",
      "On epoch 2200\n",
      "On epoch 2300\n",
      "On epoch 2400\n",
      "On epoch 2500\n",
      "On epoch 2600\n",
      "On epoch 2700\n",
      "On epoch 2800\n",
      "On epoch 2900\n",
      "Better MSE Loss 0.036512669175863266 achieved on epoch 2902\n",
      "On epoch 3000\n",
      "On epoch 3100\n",
      "On epoch 3200\n",
      "On epoch 3300\n",
      "Better MSE Loss 0.02610999532043934 achieved on epoch 3322\n",
      "On epoch 3400\n",
      "On epoch 3500\n",
      "On epoch 3600\n",
      "On epoch 3700\n",
      "On epoch 3800\n",
      "On epoch 3900\n",
      "On epoch 4000\n",
      "On epoch 4100\n",
      "On epoch 4200\n",
      "On epoch 4300\n",
      "On epoch 4400\n",
      "On epoch 4500\n",
      "On epoch 4600\n",
      "On epoch 4700\n",
      "On epoch 4800\n",
      "On epoch 4900\n",
      "On epoch 5000\n",
      "On epoch 5100\n",
      "On epoch 5200\n",
      "On epoch 5300\n",
      "On epoch 5400\n",
      "On epoch 5500\n",
      "On epoch 5600\n",
      "On epoch 5700\n",
      "On epoch 5800\n",
      "Better MSE Loss 0.02057999186217785 achieved on epoch 5856\n",
      "On epoch 5900\n",
      "On epoch 6000\n",
      "On epoch 6100\n",
      "On epoch 6200\n",
      "On epoch 6300\n",
      "On epoch 6400\n",
      "On epoch 6500\n",
      "On epoch 6600\n",
      "On epoch 6700\n",
      "On epoch 6800\n",
      "On epoch 6900\n",
      "On epoch 7000\n",
      "Better MSE Loss 0.008768097497522831 achieved on epoch 7008\n",
      "On epoch 7100\n",
      "No significant updates in 150 epochs and under loss threshold, breaking training\n"
     ]
    }
   ],
   "source": [
    "model = Net(nInputFeatures=xTrain.shape[1])\n",
    "mse_loss = nn.MSELoss()\n",
    "optimizer = torch.optim.Adam(model.parameters(), lr=0.01,weight_decay = 0.002)\n",
    "fullMSEHistory = []\n",
    "\n",
    "bestMSE = 10000000\n",
    "bestWeights = None\n",
    "\n",
    "Θ = 10000\n",
    "timeSinceLastUpdate = 0\n",
    "for θ in range(Θ):\n",
    "    for batchIDX, (xBatch, yBatch) in enumerate(nnTrainLoader):\n",
    "        output = model(xBatch)\n",
    "        loss = mse_loss(output, yBatch.reshape(-1, 1))\n",
    "        optimizer.zero_grad()\n",
    "        loss.backward()\n",
    "        optimizer.step()\n",
    "    if(θ%500==0):\n",
    "        print(\"On epoch\", str(θ))\n",
    "    timeSinceLastUpdate += 1\n",
    "    if float(loss)<bestMSE:\n",
    "        timeSinceLastUpdate = 0\n",
    "        bestMSE = float(loss)\n",
    "        bestWeights = copy.deepcopy(model.state_dict())\n",
    "        print(\"Better MSE Loss {} achieved on epoch {}\".format(loss,θ))\n",
    "    fullMSEHistory.append(float(loss))\n",
    "    \n",
    "    if(timeSinceLastUpdate>=150 and bestMSE<0.01):\n",
    "        print(\"No significant updates in 150 epochs and under loss threshold, breaking training\")\n",
    "        break"
   ]
  },
  {
   "cell_type": "code",
   "execution_count": 430,
   "id": "50f420c1",
   "metadata": {},
   "outputs": [
    {
     "data": {
      "image/png": "[encoded data removed]",
      "text/plain": [
       "<Figure size 640x480 with 1 Axes>"
      ]
     },
     "metadata": {},
     "output_type": "display_data"
    }
   ],
   "source": [
    "epochs = []\n",
    "for i in range(θ+1):\n",
    "    epochs.append(i)\n",
    "plt.plot(epochs,fullMSEHistory)\n",
    "plt.xlabel(\"Epochs\")  \n",
    "plt.ylabel(\"MSE Loss\")  \n",
    "plt.title(\"Limited Features Training\") \n",
    "plt.show()"
   ]
  },
  {
   "cell_type": "code",
   "execution_count": 431,
   "id": "93794dd0",
   "metadata": {},
   "outputs": [
    {
     "name": "stdout",
     "output_type": "stream",
     "text": [
      "Mean Squared Error is:  0.3311021327972412\n",
      "RMSE is:  0.5754147485051467\n",
      "Predicted CR values within +/- 1.00 of actual CR:  0.6931818181818182\n",
      "Predicted CR values within +/- 2.00 of actual CR:  0.8798701298701299\n",
      "Predicted CR values within +/- 3.00 of actual CR:  0.9496753246753247\n"
     ]
    }
   ],
   "source": [
    "model.load_state_dict(bestWeights)\n",
    "total = 0\n",
    "withinReason = 0\n",
    "lessWithinReason = 0\n",
    "outerBoundOfReason = 0\n",
    "for batchIDX, (xTestBatch, yTestBatch) in enumerate(nnTestLoader):\n",
    "    output = model(xTestBatch)\n",
    "    for i, element in enumerate(output):\n",
    "        element = element.detach().numpy()\n",
    "        if(np.abs(yTestBatch[i]-element)<1):\n",
    "            withinReason += 1\n",
    "        if(np.abs(yTestBatch[i]-element)<2):\n",
    "            lessWithinReason += 1\n",
    "        if(np.abs(yTestBatch[i]-element)<3):\n",
    "            outerBoundOfReason += 1\n",
    "        total += 1\n",
    "    loss = float(mse_loss(output, yTestBatch.reshape(-1, 1)))\n",
    "mse = loss\n",
    "rootMSE = np.sqrt(mse)\n",
    "print(\"Mean Squared Error is: \", mse)\n",
    "print(\"RMSE is: \", rootMSE)\n",
    "print(\"Predicted CR values within +/- 1.00 of actual CR: \", str(withinReason/total))\n",
    "print(\"Predicted CR values within +/- 2.00 of actual CR: \", str(lessWithinReason/total))\n",
    "print(\"Predicted CR values within +/- 3.00 of actual CR: \", str(outerBoundOfReason/total))"
   ]
  },
  {
   "cell_type": "markdown",
   "id": "45125026",
   "metadata": {},
   "source": [
    "THIS IS THE START OF THE BIGGER DATAFRAME SECTION"
   ]
  },
  {
   "cell_type": "code",
   "execution_count": 208,
   "id": "ef60ef24",
   "metadata": {},
   "outputs": [
    {
     "name": "stdout",
     "output_type": "stream",
     "text": [
      "26.0 Removed, less than two of this CR present\n"
     ]
    }
   ],
   "source": [
    "data = pd.read_csv(\"MostFeatures,1Target.csv\")\n",
    "for CR in data['CR'].unique():\n",
    "    if(data['CR'][data['CR']==CR].count() < 2):\n",
    "        print(CR, \"Removed, less than two of this CR present\")\n",
    "        data = data[data['CR']!=CR]\n",
    "    if(CR == 0):\n",
    "        data = data[data['CR']!=CR]\n",
    "x = data.drop(columns=\"CR\")\n",
    "y = data['CR']\n",
    "xTrain, xTest, yTrain, yTest = model_selection.train_test_split(x, y,test_size=0.5,stratify=y)"
   ]
  },
  {
   "cell_type": "code",
   "execution_count": 209,
   "id": "47716232",
   "metadata": {},
   "outputs": [],
   "source": [
    "for i,column in enumerate(xTrain):\n",
    "    colMin = xTrain[column].max()\n",
    "    colMax = xTrain[column].min()\n",
    "    if(colMin == colMax):\n",
    "        xTrain[column] = xTrain[column]  * 0\n",
    "        xTest[column] = xTest[column] * 0\n",
    "    else:\n",
    "        xTrain[column] = (xTrain[column] - colMin) / (colMax - colMin)\n",
    "        xTest[column] = (xTest[column] - colMin) / (colMax - colMin)\n",
    "nnTrainingSet = nnDataset(xTrain.values, yTrain.values)\n",
    "nnTestingSet = nnDataset(xTest.values, yTest.values)\n",
    "nnTrainLoader = DataLoader(nnTrainingSet, batch_size=16, shuffle=True)\n",
    "nnTestLoader = DataLoader(nnTestingSet, batch_size=16, shuffle=False)"
   ]
  },
  {
   "cell_type": "code",
   "execution_count": 210,
   "id": "35841958",
   "metadata": {},
   "outputs": [],
   "source": [
    "class Net(nn.Module):\n",
    "    def __init__(self, nInputFeatures):\n",
    "        super(Net, self).__init__()\n",
    "        self.linear_relu_stack = nn.Sequential(\n",
    "            nn.Linear(nInputFeatures,128),\n",
    "            nn.ReLU(),\n",
    "            nn.Linear(128,128),\n",
    "            nn.ReLU(),\n",
    "            nn.Linear(128,16),\n",
    "            nn.ReLU(),\n",
    "            nn.Linear(16,1),\n",
    "            \n",
    "        )\n",
    "    def forward(self, x):\n",
    "        output = self.linear_relu_stack(x)\n",
    "        return output"
   ]
  },
  {
   "cell_type": "code",
   "execution_count": 211,
   "id": "7f944154",
   "metadata": {},
   "outputs": [
    {
     "name": "stdout",
     "output_type": "stream",
     "text": [
      "On epoch 0\n",
      "Better MSE Loss 17.874603271484375 achieved on epoch 0\n",
      "Better MSE Loss 8.402405738830566 achieved on epoch 1\n",
      "Better MSE Loss 3.535475254058838 achieved on epoch 7\n",
      "Better MSE Loss 1.0861536264419556 achieved on epoch 9\n",
      "Better MSE Loss 0.7702497839927673 achieved on epoch 16\n",
      "Better MSE Loss 0.39031678438186646 achieved on epoch 20\n",
      "Better MSE Loss 0.06483390182256699 achieved on epoch 40\n",
      "On epoch 100\n",
      "Better MSE Loss 0.051868464797735214 achieved on epoch 124\n",
      "On epoch 200\n",
      "Better MSE Loss 0.05121418461203575 achieved on epoch 236\n",
      "Better MSE Loss 0.042656123638153076 achieved on epoch 242\n",
      "On epoch 300\n",
      "Better MSE Loss 0.03747975081205368 achieved on epoch 362\n",
      "Better MSE Loss 0.022091656923294067 achieved on epoch 387\n",
      "On epoch 400\n"
     ]
    }
   ],
   "source": [
    "model = Net(nInputFeatures=xTrain.shape[1])\n",
    "mse_loss = nn.MSELoss()\n",
    "optimizer = torch.optim.Adam(model.parameters(), lr=0.0005,weight_decay = 0.0001)\n",
    "fullMSEHistory = []\n",
    "\n",
    "bestMSE = 10000000\n",
    "bestWeights = None\n",
    "\n",
    "Θ = 500\n",
    "timeSinceLastUpdate = 0\n",
    "for θ in range(Θ):\n",
    "    for batchIDX, (xBatch, yBatch) in enumerate(nnTrainLoader):\n",
    "        output = model(xBatch)\n",
    "        loss = mse_loss(output, yBatch.reshape(-1, 1))\n",
    "        optimizer.zero_grad()\n",
    "        loss.backward()\n",
    "        optimizer.step()\n",
    "    if(θ%100==0):\n",
    "        print(\"On epoch\", str(θ))\n",
    "    timeSinceLastUpdate += 1\n",
    "    fullMSEHistory.append(float(loss))\n",
    "    if float(loss)<bestMSE:\n",
    "        timeSinceLastUpdate = 0\n",
    "        bestMSE = float(loss)\n",
    "        bestWeights = copy.deepcopy(model.state_dict())\n",
    "        print(\"Better MSE Loss {} achieved on epoch {}\".format(loss,θ))\n",
    "    if(timeSinceLastUpdate>=150 and bestMSE<0.01):\n",
    "        print(\"No significant updates in 150 epochs and under loss threshold, breaking training\")\n",
    "        break"
   ]
  },
  {
   "cell_type": "code",
   "execution_count": 212,
   "id": "5b780107",
   "metadata": {},
   "outputs": [
    {
     "data": {
      "image/png": "[encoded data removed]",
      "text/plain": [
       "<Figure size 640x480 with 1 Axes>"
      ]
     },
     "metadata": {},
     "output_type": "display_data"
    }
   ],
   "source": [
    "epochs = []\n",
    "for i in range(θ+1):\n",
    "    epochs.append(i)\n",
    "plt.plot(epochs,fullMSEHistory)\n",
    "plt.xlabel(\"Epochs\")  \n",
    "plt.ylabel(\"MSE Loss\")  \n",
    "plt.title(\"Most Features Training\") \n",
    "plt.show()"
   ]
  },
  {
   "cell_type": "code",
   "execution_count": 213,
   "id": "617cbc17",
   "metadata": {},
   "outputs": [
    {
     "name": "stdout",
     "output_type": "stream",
     "text": [
      "Mean Squared Error is:  0.8510463237762451\n",
      "RMSE is:  0.9225217199482325\n",
      "Predicted CR values within +/- 1.00 of actual CR:  0.685064935064935\n",
      "Predicted CR values within +/- 2.00 of actual CR:  0.875\n",
      "Predicted CR values within +/- 3.00 of actual CR:  0.9545454545454546\n"
     ]
    }
   ],
   "source": [
    "model.load_state_dict(bestWeights)\n",
    "total = 0\n",
    "withinReason = 0\n",
    "lessWithinReason = 0\n",
    "outerBoundOfReason = 0\n",
    "for batchIDX, (xTestBatch, yTestBatch) in enumerate(nnTestLoader):\n",
    "    output = model(xTestBatch)\n",
    "    for i, element in enumerate(output):\n",
    "        element = element.detach().numpy()\n",
    "        if(np.abs(yTestBatch[i]-element)<1):\n",
    "            withinReason += 1\n",
    "        if(np.abs(yTestBatch[i]-element)<2):\n",
    "            lessWithinReason += 1\n",
    "        if(np.abs(yTestBatch[i]-element)<3):\n",
    "            outerBoundOfReason += 1\n",
    "        total += 1\n",
    "    loss = float(mse_loss(output, yTestBatch.reshape(-1, 1)))\n",
    "mse = loss\n",
    "rootMSE = np.sqrt(mse)\n",
    "print(\"Mean Squared Error is: \", mse)\n",
    "print(\"RMSE is: \", rootMSE)\n",
    "print(\"Predicted CR values within +/- 1.00 of actual CR: \", str(withinReason/total))\n",
    "print(\"Predicted CR values within +/- 2.00 of actual CR: \", str(lessWithinReason/total))\n",
    "print(\"Predicted CR values within +/- 3.00 of actual CR: \", str(outerBoundOfReason/total))"
   ]
  },
  {
   "cell_type": "code",
   "execution_count": null,
   "id": "7296dedd",
   "metadata": {},
   "outputs": [],
   "source": []
  },
  {
   "cell_type": "code",
   "execution_count": null,
   "id": "bcb83960",
   "metadata": {},
   "outputs": [],
   "source": []
  },
  {
   "cell_type": "code",
   "execution_count": null,
   "id": "e292aeff",
   "metadata": {},
   "outputs": [],
   "source": []
  }
 ],
 "metadata": {
  "kernelspec": {
   "display_name": "Python 3 (ipykernel)",
   "language": "python",
   "name": "python3"
  },
  "language_info": {
   "codemirror_mode": {
    "name": "ipython",
    "version": 3
   },
   "file_extension": ".py",
   "mimetype": "text/x-python",
   "name": "python",
   "nbconvert_exporter": "python",
   "pygments_lexer": "ipython3",
   "version": "3.10.9"
  }
 },
 "nbformat": 4,
 "nbformat_minor": 5
}
