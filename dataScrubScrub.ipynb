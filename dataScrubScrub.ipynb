{
 "cells": [
  {
   "cell_type": "code",
   "execution_count": 52,
   "id": "17efe415",
   "metadata": {},
   "outputs": [],
   "source": [
    "from bs4 import BeautifulSoup\n",
    "import pandas as pd\n",
    "import os\n",
    "import re\n",
    "cwd = os.getcwd()"
   ]
  },
  {
   "cell_type": "code",
   "execution_count": 8,
   "id": "116a780e",
   "metadata": {},
   "outputs": [],
   "source": [
    "bestiaryFiles = os.listdir(\"./bestiary\")\n",
    "spellFiles = os.listdir(\"./spells\")"
   ]
  },
  {
   "cell_type": "code",
   "execution_count": 98,
   "id": "0cc5eb0a",
   "metadata": {},
   "outputs": [
    {
     "name": "stdout",
     "output_type": "stream",
     "text": [
      "Ancient Dragon Turtle\n",
      "Arasta\n",
      "Aspect of Bahamut\n",
      "Aspect of Tiamat\n",
      "Black Greatwyrm\n",
      "Blue Greatwyrm\n",
      "Brass Greatwyrm\n",
      "Bronze Greatwyrm\n",
      "Copper Greatwyrm\n",
      "Dullahan\n",
      "Gold Greatwyrm\n",
      "Green Greatwyrm\n",
      "Hythonia\n",
      "Red Greatwyrm\n",
      "Silver Greatwyrm\n",
      "Tromokratis\n",
      "White Greatwyrm\n"
     ]
    }
   ],
   "source": [
    "for creatureFile in bestiaryFiles:\n",
    "    actions = []\n",
    "    features = []\n",
    "    legendaryAct = 0\n",
    "    legendaryRes = 0\n",
    "    mythic = False\n",
    "    regional = False\n",
    "    lair = False\n",
    "    bonus = False\n",
    "    reaction = False\n",
    "    action = False\n",
    "    with open(cwd + \"\\\\bestiary\\\\\" + creatureFile, \"r\") as f:\n",
    "        soup = BeautifulSoup(f,'html.parser')\n",
    "        name = soup.find_all(\"h1\", {\"class\": \"stats-name\"})[0].string\n",
    "        placesOfInterest = soup.find_all(\"td\", {\"class\": \"mon__sect-row-inner\"})\n",
    "        headersOfInterest = soup.find_all(\"h3\", {\"class\":\"mon__sect-header-inner\"})\n",
    "        for header in headersOfInterest:\n",
    "            if(header.string == \"Legendary Actions\"):\n",
    "                instances = soup(text=re.compile(\"take \\d legendary actions\"))\n",
    "                match = re.search(r'take \\d legendary actions', instances[0])\n",
    "                legendaryAct = match.group()[5]\n",
    "            elif(header.string == \"Mythic Actions\"):\n",
    "                mythic = True\n",
    "            elif(header.string == \"Regional Effects\"):\n",
    "                regional = True\n",
    "            elif(header.string == \"Lair Actions\"):\n",
    "                lair = True\n",
    "            elif(header.string == \"Bonus Actions\"):\n",
    "                bonus = True\n",
    "            elif(header.string == \"Reactions\"):\n",
    "                reaction = True\n",
    "            else:\n",
    "                action = True\n",
    "        currentIndexOfInterest = 0\n",
    "        if(len(placesOfInterest)-len(headersOfInterest)>0):\n",
    "            featureList = placesOfInterest[0]\n",
    "            featureList = featureList.find_all(\"span\",{'class': [\"rd__h\",\"rd__h--3\"]})\n",
    "            for feature in featureList:\n",
    "                feature = feature.find(\"span\",{'class':'entry-title-inner'}).string\n",
    "                feature = re.sub(\"[.]\", \"\", feature)\n",
    "                feature = re.sub(\" \\(\", \"_(\", feature)\n",
    "                feature = feature.replace(\"\\\\\",\"\")\n",
    "                featureSplit = feature.split(\"_\")\n",
    "                if(featureSplit[0]==\"Legendary Resistance\"):\n",
    "                    legendaryRes = featureSplit[1][1]\n",
    "                else:\n",
    "                    features.append(featureSplit[0])\n",
    "        if(action):\n",
    "            pass\n",
    "        if(bonus):\n",
    "            pass\n",
    "        if(reaction):\n",
    "            pass\n",
    "        if(legendaryAct!=0):\n",
    "            pass\n",
    "        if(mythic):\n",
    "            print(name)\n",
    "        if(lair):\n",
    "            pass\n",
    "        if(regional):\n",
    "            pass\n",
    "            \n",
    "#         lengthNamedColumns = sum([mythic,lair,bonus,reaction,regional,legendaryAct!=0])\n",
    "#         print(name, lengthNamedColumns)\n",
    "#         for i, elements in enumerate(placesOfInterest):\n",
    "#             elementsOfInterest = elements.find_all(\"div\", {'class':['rd__b','rd__b--3']})\n",
    "#             for element in elementsOfInterest:\n",
    "#                 objectName = element.find(\"span\",{'class':['entry-title-inner']})\n",
    "#                 if(i == 0):\n",
    "#                     features.append(objectName.string)\n",
    "#                 else:\n",
    "#                     actions.append(objectName.string)\n",
    "#         totalFeatures = len(features)\n",
    "#         print(name,legendaryAct,lair,regional,mythic)\n",
    "#     if(legendaryAct > 0):\n",
    "#         print(creatureFile,legendaryAct)\n",
    "#         print(soup.prettify())"
   ]
  },
  {
   "cell_type": "code",
   "execution_count": null,
   "id": "7d7eb2ee",
   "metadata": {},
   "outputs": [],
   "source": []
  }
 ],
 "metadata": {
  "kernelspec": {
   "display_name": "Python 3 (ipykernel)",
   "language": "python",
   "name": "python3"
  },
  "language_info": {
   "codemirror_mode": {
    "name": "ipython",
    "version": 3
   },
   "file_extension": ".py",
   "mimetype": "text/x-python",
   "name": "python",
   "nbconvert_exporter": "python",
   "pygments_lexer": "ipython3",
   "version": "3.10.9"
  }
 },
 "nbformat": 4,
 "nbformat_minor": 5
}
